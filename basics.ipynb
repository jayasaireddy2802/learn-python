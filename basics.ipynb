{
  "nbformat": 4,
  "nbformat_minor": 0,
  "metadata": {
    "colab": {
      "provenance": [],
      "collapsed_sections": [
        "0Of-y5wxWHqR",
        "ilFmwfVj7slc",
        "KnsVEpH7AVWZ",
        "hcelvCj3C1ZB",
        "8zMBgwRpXeuY",
        "Mc2tXyaEZllH",
        "_6U_BORwHME7"
      ],
      "toc_visible": true,
      "authorship_tag": "ABX9TyMqHGIsEFYI4Z2N29DpDBo1",
      "include_colab_link": true
    },
    "kernelspec": {
      "name": "python3",
      "display_name": "Python 3"
    },
    "language_info": {
      "name": "python"
    }
  },
  "cells": [
    {
      "cell_type": "markdown",
      "metadata": {
        "id": "view-in-github",
        "colab_type": "text"
      },
      "source": [
        "<a href=\"https://colab.research.google.com/github/jayasaireddy2802/learn-python/blob/main/basics.ipynb\" target=\"_parent\"><img src=\"https://colab.research.google.com/assets/colab-badge.svg\" alt=\"Open In Colab\"/></a>"
      ]
    },
    {
      "cell_type": "markdown",
      "source": [
        "# **BASICS**"
      ],
      "metadata": {
        "id": "0Of-y5wxWHqR"
      }
    },
    {
      "cell_type": "code",
      "execution_count": null,
      "metadata": {
        "colab": {
          "base_uri": "https://localhost:8080/"
        },
        "id": "IgYUTKr-PB1T",
        "outputId": "44b09aad-ef16-451a-a832-ac0fc41f3b7c"
      },
      "outputs": [
        {
          "output_type": "stream",
          "name": "stdout",
          "text": [
            "enter the name sai\n",
            "hello sai\n",
            "hello sai\n",
            "hello see sai\n",
            "hello sai\n"
          ]
        }
      ],
      "source": [
        "name = input(\"enter the name \")\n",
        "print(\"hello \"+name)\n",
        "print(\"hello\" ,end=\" \")\n",
        "print(name)\n",
        "print(\"hello \",name,sep=\"see \")\n",
        "# f string. Do not give space after the f\n",
        "print(f\"hello {name}\")"
      ]
    },
    {
      "cell_type": "code",
      "source": [
        "name = input(\"enter the name\")\n",
        "print(name)\n",
        "# Removes the white spaces at beginning\n",
        "name = name.strip()\n",
        "\n",
        "# Capitalizes the word of very first letter\n",
        "name = name.capitalize()\n",
        "\n",
        "print(name)\n"
      ],
      "metadata": {
        "colab": {
          "base_uri": "https://localhost:8080/"
        },
        "id": "oSWH5M_vTOYS",
        "outputId": "1048afd7-4e1d-4bb9-dfe2-3f4614e8e675"
      },
      "execution_count": null,
      "outputs": [
        {
          "output_type": "stream",
          "name": "stdout",
          "text": [
            "enter the name                sai         reddy\n",
            "                sai         reddy\n",
            "Sai         reddy\n"
          ]
        }
      ]
    },
    {
      "cell_type": "code",
      "source": [
        "name = input(\"enter the name\")\n",
        "print(name)\n",
        "\n",
        "name = name.title()\n",
        "print(name)\n",
        "\n"
      ],
      "metadata": {
        "colab": {
          "base_uri": "https://localhost:8080/"
        },
        "id": "hS2fey3GUhpV",
        "outputId": "868ec815-3be9-4f5f-b42d-c2e8aeff4346"
      },
      "execution_count": null,
      "outputs": [
        {
          "output_type": "stream",
          "name": "stdout",
          "text": [
            "enter the namesai reddy\n",
            "sai reddy\n",
            "Sai Reddy\n"
          ]
        }
      ]
    },
    {
      "cell_type": "code",
      "source": [
        "name = input(\"enter the name\").strip().title()\n",
        "print(name)"
      ],
      "metadata": {
        "colab": {
          "base_uri": "https://localhost:8080/"
        },
        "id": "GU_AH9DXYg9p",
        "outputId": "fd70844e-1195-4dfc-b8ab-692f1adfe401"
      },
      "execution_count": null,
      "outputs": [
        {
          "output_type": "stream",
          "name": "stdout",
          "text": [
            "enter the name                    sai reddy\n",
            "Sai Reddy\n"
          ]
        }
      ]
    },
    {
      "cell_type": "code",
      "source": [
        "li = list(map(int,input().split()))\n",
        "print(li)\n",
        "\n",
        "li = list(input().split())\n",
        "print(li)"
      ],
      "metadata": {
        "colab": {
          "base_uri": "https://localhost:8080/"
        },
        "id": "9G6QljxYa4RK",
        "outputId": "51b8839b-3736-49ef-fb13-3bbc0b28c84e"
      },
      "execution_count": null,
      "outputs": [
        {
          "output_type": "stream",
          "name": "stdout",
          "text": [
            "10 2 3 5  868 5 95\n",
            "[10, 2, 3, 5, 868, 5, 95]\n",
            "10 2 3 5  868 5 95\n",
            "['10', '2', '3', '5', '868', '5', '95']\n"
          ]
        }
      ]
    },
    {
      "cell_type": "code",
      "source": [
        "name = input(\"enter the name\").strip().title()\n",
        "first ,last = name.split(\" \")\n",
        "print(first)\n",
        "print(last)"
      ],
      "metadata": {
        "colab": {
          "base_uri": "https://localhost:8080/"
        },
        "id": "Tvdw5oVGALxW",
        "outputId": "2fa532f4-ad6b-479f-efb1-71bc49a32f83"
      },
      "execution_count": null,
      "outputs": [
        {
          "output_type": "stream",
          "name": "stdout",
          "text": [
            "enter the namesai reddy\n",
            "Sai\n",
            "Reddy\n"
          ]
        }
      ]
    },
    {
      "cell_type": "code",
      "source": [
        "# it performs string the string concatination \n",
        "a = input(\"enter the first number\")\n",
        "b = input(\"enter the first number\")\n",
        "c = a+b\n",
        "print(c)\n",
        "20\n",
        "a = int(input(\"enter the first number\"))\n",
        "b = int(input(\"enter the second number\"))\n",
        "c = a+b\n",
        "print(c)"
      ],
      "metadata": {
        "colab": {
          "base_uri": "https://localhost:8080/"
        },
        "id": "9CAE-c8oBPIs",
        "outputId": "fdbd0c9a-9c06-4ad1-ee1f-8bf549712c3c"
      },
      "execution_count": null,
      "outputs": [
        {
          "output_type": "stream",
          "name": "stdout",
          "text": [
            "enter the first number10\n",
            "enter the first number\n",
            "10\n",
            "enter the first number10\n",
            "enter the second number20\n",
            "30\n"
          ]
        }
      ]
    },
    {
      "cell_type": "code",
      "source": [
        "a = int(input(\"enter the first number\"))\n",
        "b = int(input(\"enter the first number\"))\n",
        "c = a+b\n",
        "print(c)"
      ],
      "metadata": {
        "colab": {
          "base_uri": "https://localhost:8080/"
        },
        "id": "pHogq6VZCQ_J",
        "outputId": "f5616ffb-bd2e-4d2d-d26d-8cdb26622cce"
      },
      "execution_count": null,
      "outputs": [
        {
          "output_type": "stream",
          "name": "stdout",
          "text": [
            "enter the first number10\n",
            "enter the first number20\n",
            "30\n"
          ]
        }
      ]
    },
    {
      "cell_type": "code",
      "source": [
        "#  If two multiples are equally close, rounding is done toward the even choice.\n",
        "print(round(12.5))\n",
        "print(round(51.5))\n",
        "print(round(11.5))\n",
        "print(round(14.5))\n",
        "print(round(1.5))\n",
        "print(round(2.5))"
      ],
      "metadata": {
        "colab": {
          "base_uri": "https://localhost:8080/"
        },
        "id": "18ZAlyNuJM76",
        "outputId": "82d88df6-d5df-485d-99fe-d188ae051899"
      },
      "execution_count": null,
      "outputs": [
        {
          "output_type": "stream",
          "name": "stdout",
          "text": [
            "12\n",
            "52\n",
            "12\n",
            "14\n",
            "2\n",
            "2\n"
          ]
        }
      ]
    },
    {
      "cell_type": "code",
      "source": [
        "z = 1002201\n",
        "print(f'{z:,}')\n",
        "\n",
        "z = 1002201.2566\n",
        "print(f'{z:,.2f}')\n",
        "\n",
        "z = 1002201.2566\n",
        "print(f'{z:.3f}')"
      ],
      "metadata": {
        "colab": {
          "base_uri": "https://localhost:8080/"
        },
        "id": "glfhm0tDLhUM",
        "outputId": "89694a26-f368-4f60-c337-46b5863f237e"
      },
      "execution_count": null,
      "outputs": [
        {
          "output_type": "stream",
          "name": "stdout",
          "text": [
            "1,002,201\n",
            "1,002,201.26\n",
            "1002201.257\n"
          ]
        }
      ]
    },
    {
      "cell_type": "code",
      "source": [
        "def main():\n",
        "  name = input()\n",
        "  print(name)\n",
        "\n",
        "main()"
      ],
      "metadata": {
        "colab": {
          "base_uri": "https://localhost:8080/"
        },
        "id": "M5DC3dIfgmc-",
        "outputId": "4723d9c5-750a-4366-d041-8781a251e1fa"
      },
      "execution_count": null,
      "outputs": [
        {
          "output_type": "stream",
          "name": "stdout",
          "text": [
            "sai\n",
            "sai\n"
          ]
        }
      ]
    },
    {
      "cell_type": "code",
      "source": [
        "def hello(name=\"sai\"):\n",
        "  print(name)\n",
        "\n",
        "name = \"raju \"\n",
        "hello(name)\n",
        "hello()"
      ],
      "metadata": {
        "colab": {
          "base_uri": "https://localhost:8080/"
        },
        "id": "7XnNKabqlZr4",
        "outputId": "cf8d334a-bcf1-4bd5-ec78-cb65dc340f62"
      },
      "execution_count": null,
      "outputs": [
        {
          "output_type": "stream",
          "name": "stdout",
          "text": [
            "raju \n",
            "sai\n"
          ]
        }
      ]
    },
    {
      "cell_type": "code",
      "source": [
        "def even(n):\n",
        "  return n%2 == 0 \n",
        "\n",
        "print(even(10))\n",
        "print(even(5))"
      ],
      "metadata": {
        "colab": {
          "base_uri": "https://localhost:8080/"
        },
        "id": "Qktl_r4zmJgT",
        "outputId": "6c6a3e6b-3513-4652-81d5-910cd392d120"
      },
      "execution_count": null,
      "outputs": [
        {
          "output_type": "stream",
          "name": "stdout",
          "text": [
            "True\n",
            "False\n"
          ]
        }
      ]
    },
    {
      "cell_type": "code",
      "source": [
        "# Examples of Arithmetic Operator\n",
        "a = 9\n",
        "b = 4\n",
        " \n",
        "# Addition of numbers\n",
        "add = a + b\n",
        " \n",
        "# Subtraction of numbers\n",
        "sub = a - b\n",
        " \n",
        "# Multiplication of number\n",
        "mul = a * b\n",
        " \n",
        "# Modulo of both number\n",
        "mod = a % b\n",
        " \n",
        "# Power\n",
        "p = a ** b\n",
        " \n",
        "# print results\n",
        "print(add)\n",
        "print(sub)\n",
        "print(mul)\n",
        "print(mod)\n",
        "print(p)"
      ],
      "metadata": {
        "colab": {
          "base_uri": "https://localhost:8080/"
        },
        "id": "Zn7yNnqfkKt8",
        "outputId": "9ed8cb75-f982-4932-91f2-9adea0cef67e"
      },
      "execution_count": null,
      "outputs": [
        {
          "output_type": "stream",
          "name": "stdout",
          "text": [
            "13\n",
            "5\n",
            "36\n",
            "1\n",
            "6561\n"
          ]
        }
      ]
    },
    {
      "cell_type": "code",
      "source": [
        "#The quotient returned by this operator is dependent on the argument being passed.\n",
        "# If any of the numbers is float, it returns output in float. It is also known as Floor division because, if any number is negative, then the output will be floored.\n",
        "print(10//3)"
      ],
      "metadata": {
        "colab": {
          "base_uri": "https://localhost:8080/"
        },
        "id": "6zERI7uXketR",
        "outputId": "6ad93409-7a10-4c8b-e54f-95e05567b890"
      },
      "execution_count": null,
      "outputs": [
        {
          "output_type": "stream",
          "name": "stdout",
          "text": [
            "3\n"
          ]
        }
      ]
    },
    {
      "cell_type": "code",
      "source": [
        "# This code runs only in python 3.10 or above versions\n",
        "def number_to_string(argument):\n",
        "    match argument:\n",
        "        case 0:\n",
        "            return \"zero\"\n",
        "        case 1:\n",
        "            return \"one\"\n",
        "        case 2:\n",
        "            return \"two\"\n",
        "        case default:\n",
        "            return \"something\"\n",
        " \n",
        "\n",
        "argument = 0\n",
        "number_to_string(argument)"
      ],
      "metadata": {
        "colab": {
          "base_uri": "https://localhost:8080/",
          "height": 36
        },
        "id": "p1HsUT8BnnrQ",
        "outputId": "1a1cd890-3d7c-44b1-b937-54c1cec2ad48"
      },
      "execution_count": null,
      "outputs": [
        {
          "output_type": "execute_result",
          "data": {
            "text/plain": [
              "'zero'"
            ],
            "application/vnd.google.colaboratory.intrinsic+json": {
              "type": "string"
            }
          },
          "metadata": {},
          "execution_count": 59
        }
      ]
    },
    {
      "cell_type": "code",
      "source": [
        "10+20"
      ],
      "metadata": {
        "colab": {
          "base_uri": "https://localhost:8080/"
        },
        "id": "2F0IesSyn1-O",
        "outputId": "6695433e-c861-4ac7-a591-a9d13695817f"
      },
      "execution_count": null,
      "outputs": [
        {
          "output_type": "execute_result",
          "data": {
            "text/plain": [
              "30"
            ]
          },
          "metadata": {},
          "execution_count": 60
        }
      ]
    },
    {
      "cell_type": "code",
      "source": [
        "# Python program to illustrate\n",
        "# Iterating over a list\n",
        "print(\"List Iteration\")\n",
        "l = [\"geeks\", \"for\", \"geeks\"]\n",
        "for i in l:\n",
        "    print(i)\n",
        " \n",
        "# Iterating over a tuple (immutable)\n",
        "print(\"\\nTuple Iteration\")\n",
        "t = (\"geeks\", \"for\", \"geeks\")\n",
        "for i in t:\n",
        "    print(i)\n",
        " \n",
        "# Iterating over a String\n",
        "print(\"\\nString Iteration\")\n",
        "s = \"Geeks\"\n",
        "for i in s:\n",
        "    print(i)\n",
        " \n",
        "# Iterating over dictionary\n",
        "print(\"\\nDictionary Iteration\")\n",
        "d = dict()\n",
        "d['xyz'] = 123\n",
        "d['abc'] = 345\n",
        "for i in d:\n",
        "    print(\"%s  %d\" % (i, d[i]))\n",
        " \n",
        "# Iterating over a set\n",
        "print(\"\\nSet Iteration\")\n",
        "set1 = {1, 2, 3, 4, 5, 6}\n",
        "for i in set1:\n",
        "    print(i)"
      ],
      "metadata": {
        "colab": {
          "base_uri": "https://localhost:8080/"
        },
        "id": "-ctSdZJTpgY3",
        "outputId": "767bb282-43ef-4900-f149-76151d4c3a18"
      },
      "execution_count": null,
      "outputs": [
        {
          "output_type": "stream",
          "name": "stdout",
          "text": [
            "List Iteration\n",
            "geeks\n",
            "for\n",
            "geeks\n",
            "\n",
            "Tuple Iteration\n",
            "geeks\n",
            "for\n",
            "geeks\n",
            "\n",
            "String Iteration\n",
            "G\n",
            "e\n",
            "e\n",
            "k\n",
            "s\n",
            "\n",
            "Dictionary Iteration\n",
            "xyz  123\n",
            "abc  345\n",
            "\n",
            "Set Iteration\n",
            "1\n",
            "2\n",
            "3\n",
            "4\n",
            "5\n",
            "6\n"
          ]
        }
      ]
    },
    {
      "cell_type": "code",
      "source": [
        "#The else clause is only executed when your while condition becomes false. If you break out of the loop, or if an exception is raised, it won’t be executed. \n",
        "count = 0\n",
        "while (count < 3):\n",
        "    count = count + 1\n",
        "    print(\"Hello Geek\")\n",
        "    \n",
        "else:\n",
        "    print(\"In Else Block\")"
      ],
      "metadata": {
        "colab": {
          "base_uri": "https://localhost:8080/"
        },
        "id": "xWtaZBm4qE9c",
        "outputId": "0247b0a4-9955-4c4b-afe7-674c68dfa001"
      },
      "execution_count": null,
      "outputs": [
        {
          "output_type": "stream",
          "name": "stdout",
          "text": [
            "Hello Geek\n",
            "Hello Geek\n",
            "Hello Geek\n",
            "In Else Block\n"
          ]
        }
      ]
    },
    {
      "cell_type": "code",
      "source": [
        "print(\"sai \" * 4)\n",
        "print(\"sai\\n\",end=\" \")\n",
        "print(\"sai\")"
      ],
      "metadata": {
        "colab": {
          "base_uri": "https://localhost:8080/"
        },
        "id": "XRvnxhaEqqHr",
        "outputId": "6892ef4a-597f-471d-ae24-0c0070e61833"
      },
      "execution_count": null,
      "outputs": [
        {
          "output_type": "stream",
          "name": "stdout",
          "text": [
            "sai sai sai sai \n",
            "sai\n",
            " sai\n"
          ]
        }
      ]
    },
    {
      "cell_type": "code",
      "source": [
        "print(\"sai \" * 4)\n",
        "print()\n",
        "print(\"sai\\n\",end=\" \")\n",
        "print()\n",
        "print(\"sai\")"
      ],
      "metadata": {
        "colab": {
          "base_uri": "https://localhost:8080/"
        },
        "id": "Ha-XsmGHNhT9",
        "outputId": "5e34da22-fac0-49d4-899e-2a4319670073"
      },
      "execution_count": null,
      "outputs": [
        {
          "output_type": "stream",
          "name": "stdout",
          "text": [
            "sai sai sai sai \n",
            "\n",
            "sai\n",
            " \n",
            "sai\n"
          ]
        }
      ]
    },
    {
      "cell_type": "code",
      "source": [
        "print(\"sai)"
      ],
      "metadata": {
        "colab": {
          "base_uri": "https://localhost:8080/",
          "height": 130
        },
        "id": "R2OZWKdyOQeq",
        "outputId": "bd6127ba-4826-446a-a5fa-c42dcbdc94df"
      },
      "execution_count": null,
      "outputs": [
        {
          "output_type": "error",
          "ename": "SyntaxError",
          "evalue": "ignored",
          "traceback": [
            "\u001b[0;36m  File \u001b[0;32m\"<ipython-input-3-92e7b36055ef>\"\u001b[0;36m, line \u001b[0;32m1\u001b[0m\n\u001b[0;31m    print(\"sai)\u001b[0m\n\u001b[0m          ^\u001b[0m\n\u001b[0;31mSyntaxError\u001b[0m\u001b[0;31m:\u001b[0m unterminated string literal (detected at line 1)\n"
          ]
        }
      ]
    },
    {
      "cell_type": "code",
      "source": [
        "try:\n",
        "  x=int(input(\"enter the number\"))\n",
        "  print(x)\n",
        "\n",
        "except ValueError:\n",
        "  print(\"enter only numbers\")\n",
        "\n",
        "try:\n",
        "  x=int(input(\"enter the number\"))\n",
        "  print(x)\n",
        "\n",
        "except:\n",
        "  print(\"enter only numbers\")\n",
        "\n"
      ],
      "metadata": {
        "colab": {
          "base_uri": "https://localhost:8080/"
        },
        "id": "lp1GCB5HOW_O",
        "outputId": "f31f626a-930a-4451-b97e-fa15fe809e4d"
      },
      "execution_count": null,
      "outputs": [
        {
          "output_type": "stream",
          "name": "stdout",
          "text": [
            "enter the numbers\n",
            "enter only numbers\n",
            "enter the numbers\n",
            "enter only numbers\n"
          ]
        }
      ]
    },
    {
      "cell_type": "code",
      "source": [
        "try:\n",
        "  x=int(input(\"enter the number\"))\n",
        "  print(x)\n",
        "\n",
        "except:\n",
        "  print(\"enter only numbers\")\n",
        "\n",
        "else:\n",
        "  print(\"this is else\")"
      ],
      "metadata": {
        "colab": {
          "base_uri": "https://localhost:8080/"
        },
        "id": "OOGRGynwXg3R",
        "outputId": "e5ad7ff4-c8b1-43fb-cc3f-227781978306"
      },
      "execution_count": null,
      "outputs": [
        {
          "output_type": "stream",
          "name": "stdout",
          "text": [
            "enter the numbers\n",
            "enter only numbers\n"
          ]
        }
      ]
    },
    {
      "cell_type": "code",
      "source": [
        "import random\n",
        "\n",
        "x = random.choice([1,2,3,4])\n",
        "print(x)\n",
        "\n",
        "x = choice([1,2,3,4])\n",
        "print(x)"
      ],
      "metadata": {
        "colab": {
          "base_uri": "https://localhost:8080/"
        },
        "id": "loMCBQoFQjf2",
        "outputId": "fe452db3-2488-4e03-ed94-9158542de1d8"
      },
      "execution_count": null,
      "outputs": [
        {
          "output_type": "stream",
          "name": "stdout",
          "text": [
            "2\n",
            "4\n"
          ]
        }
      ]
    },
    {
      "cell_type": "code",
      "source": [
        "\n",
        "from random import choice\n",
        "\n",
        "x = choice([1,2,3,4])\n",
        "print(x)\n",
        "\n"
      ],
      "metadata": {
        "colab": {
          "base_uri": "https://localhost:8080/"
        },
        "id": "5KcTNnvciurn",
        "outputId": "6943f969-91bc-4886-a532-1df8ded66798"
      },
      "execution_count": null,
      "outputs": [
        {
          "output_type": "stream",
          "name": "stdout",
          "text": [
            "3\n"
          ]
        }
      ]
    },
    {
      "cell_type": "code",
      "source": [
        "!pip install cowsay\n"
      ],
      "metadata": {
        "id": "mxmyXGqhjkTv"
      },
      "execution_count": null,
      "outputs": []
    },
    {
      "cell_type": "code",
      "source": [
        "import cowsay\n",
        "cowsay.cow(\"hello \")"
      ],
      "metadata": {
        "colab": {
          "base_uri": "https://localhost:8080/"
        },
        "id": "JEXfDzBOloUG",
        "outputId": "d161d8cf-f1de-4a4a-edd6-7eb6efc62a9e"
      },
      "execution_count": null,
      "outputs": [
        {
          "output_type": "stream",
          "name": "stdout",
          "text": [
            "  _____\n",
            "| hello |\n",
            "  =====\n",
            "     \\\n",
            "      \\\n",
            "        ^__^\n",
            "        (oo)\\_______\n",
            "        (__)\\       )\\/\\\n",
            "            ||----w |\n",
            "            ||     ||\n"
          ]
        }
      ]
    },
    {
      "cell_type": "code",
      "source": [
        "import cowsay\n",
        "cowsay.trex(\"hello \")"
      ],
      "metadata": {
        "colab": {
          "base_uri": "https://localhost:8080/"
        },
        "id": "MBTQNRn0l8LB",
        "outputId": "0d69136b-e195-401f-ce71-9579d8b7b56f"
      },
      "execution_count": null,
      "outputs": [
        {
          "output_type": "stream",
          "name": "stdout",
          "text": [
            "  _____\n",
            "| hello |\n",
            "  =====\n",
            "            \\\n",
            "             \\\n",
            "              \\\n",
            "               \\\n",
            "                  .-=-==--==--.\n",
            "            ..-==\"  ,'o`)      `.\n",
            "          ,'         `\"'         \\\n",
            "         :  (                     `.__...._\n",
            "         |                  )    /         `-=-.\n",
            "         :       ,vv.-._   /    /               `---==-._\n",
            "          \\/\\/\\/VV ^ d88`;'    /                         `.\n",
            "              ``  ^/d88P!'    /             ,              `._\n",
            "                 ^/    !'   ,.      ,      /                  \"-,,__,,--'\"\"\"\"-.\n",
            "                ^/    !'  ,'  \\ . .(      (         _           )  ) ) ) ))_,-.\\\n",
            "               ^(__ ,!',\"'   ;:+.:%:a.     \\:.. . ,'          )  )  ) ) ,\"'    '\n",
            "               ',,,'','     /o:::\":%:%a.    \\:.:.:         .    )  ) _,'\n",
            "                \"\"\"'       ;':::'' `+%%%a._  \\%:%|         ;.). _,-\"\"\n",
            "                       ,-='_.-'      ``:%::)  )%:|        /:._,\"\n",
            "                      (/(/\"           ,\" ,'_,'%%%:       (_,'\n",
            "                                     (  (//(`.___;        \\\n",
            "                                      \\     \\    `         `\n",
            "                                       `.    `.   `.        :\n",
            "                                         \\. . .\\    : . . . :\n",
            "                                          \\. . .:    `.. . .:\n",
            "                                           `..:.:\\     \\:...\\\n",
            "                                            ;:.:.;      ::...:\n",
            "                                            ):%::       :::::;\n",
            "                                        __,::%:(        :::::\n",
            "                                     ,;:%%%%%%%:        ;:%::\n",
            "                                       ;,--\"\"-.`\\  ,=--':%:%:\\\n",
            "                                      /\"       \"| /-\".:%%%%%%%\\\n",
            "                                                      ;,-\"'`)%%)\n",
            "                                                     /\"      \"|\n"
          ]
        }
      ]
    },
    {
      "cell_type": "code",
      "source": [
        "# A Python program to demonstrate need\n",
        "# of packing and unpacking\n",
        "\n",
        "# A sample function that takes 4 arguments\n",
        "# and prints them.\n",
        "def fun(a, b, c, d):\n",
        "\tprint(a, b, c, d)\n",
        "\n",
        "# Driver Code\n",
        "my_list = [1, 2, 3, 4]\n",
        "\n",
        "# This doesn't work\n",
        "fun(my_list)\n",
        "\n",
        "\n"
      ],
      "metadata": {
        "id": "S6qHPPLVqSX5"
      },
      "execution_count": null,
      "outputs": []
    },
    {
      "cell_type": "code",
      "source": [
        "# A sample function that takes 4 arguments\n",
        "# and prints the,\n",
        "def fun(a, b, c, d):\n",
        "    print(a, b, c, d)\n",
        " \n",
        "# Driver Code\n",
        "my_list = (1, 2, 3, 4)\n",
        " \n",
        "# Unpacking list into four arguments\n",
        "fun(*my_list)"
      ],
      "metadata": {
        "id": "SyYJd9uEnxcC",
        "colab": {
          "base_uri": "https://localhost:8080/"
        },
        "outputId": "74c1d25c-8bee-4282-8543-eb131f61542a"
      },
      "execution_count": null,
      "outputs": [
        {
          "output_type": "stream",
          "name": "stdout",
          "text": [
            "1 2 3 4\n"
          ]
        }
      ]
    },
    {
      "cell_type": "code",
      "source": [
        "# A sample program to demonstrate unpacking of\n",
        "# dictionary items using **\n",
        "def fun(a, b, c):\n",
        "    print(a, b, c)\n",
        " \n",
        "# A call with unpacking of dictionary\n",
        "d = {'a':2, 'b':4, 'c':10}\n",
        "fun(**d)"
      ],
      "metadata": {
        "colab": {
          "base_uri": "https://localhost:8080/"
        },
        "id": "wSuuYw-0wo0R",
        "outputId": "9d5e9376-f0f8-4a08-a992-dd5a813ca072"
      },
      "execution_count": null,
      "outputs": [
        {
          "output_type": "stream",
          "name": "stdout",
          "text": [
            "2 4 10\n"
          ]
        }
      ]
    },
    {
      "cell_type": "code",
      "source": [
        "# Python program to demonstrate ternary operator\n",
        "a, b = 10, 20\n",
        " \n",
        "# Use tuple for selecting an item\n",
        "# (if_test_false,if_test_true)[test]\n",
        "# if [a<b] is true it return 1, so element with 1 index will print\n",
        "# else if [a<b] is false it return 0, so element with 0 index will print\n",
        "print( (b, a) [a < b] )\n",
        " \n",
        "# Use Dictionary for selecting an item\n",
        "# if [a < b] is true then value of True key will print\n",
        "# else if [a<b] is false then value of False key will print\n",
        "print({True: a, False: b} [a < b])\n",
        " \n",
        "# lambda is more efficient than above two methods\n",
        "# because in lambda  we are assure that\n",
        "# only one expression will be evaluated unlike in\n",
        "# tuple and Dictionary\n",
        "print((lambda: b, lambda: a)[a < b]())"
      ],
      "metadata": {
        "colab": {
          "base_uri": "https://localhost:8080/"
        },
        "id": "XnpzJKsC2BNR",
        "outputId": "a0ad64c8-5883-40b9-e6e9-e700f0be0e63"
      },
      "execution_count": null,
      "outputs": [
        {
          "output_type": "stream",
          "name": "stdout",
          "text": [
            "10\n",
            "10\n",
            "10\n"
          ]
        }
      ]
    },
    {
      "cell_type": "code",
      "source": [
        "# Python program to demonstrate nested ternary operator\n",
        "a, b = 10, 20\n",
        "\n",
        "print (\"Both a and b are equal\" if a == b else \"a is greater than b\"\n",
        "\t\tif a > b else \"b is greater than a\")\n"
      ],
      "metadata": {
        "colab": {
          "base_uri": "https://localhost:8080/"
        },
        "id": "5ezfYydHYzXx",
        "outputId": "884346fd-d7e5-41ad-ebae-92549b1b3458"
      },
      "execution_count": null,
      "outputs": [
        {
          "output_type": "stream",
          "name": "stdout",
          "text": [
            "b is greater than a\n"
          ]
        }
      ]
    },
    {
      "cell_type": "code",
      "source": [
        "# Python Program to\n",
        "# demonstrate String slicing\n",
        "\n",
        "# Creating a String\n",
        "String1 = \"GeeksForGeeks\"\n",
        "print(\"Initial String: \")\n",
        "print(String1)\n",
        "\n",
        "# Printing 3rd to 12th character\n",
        "print(\"\\nSlicing characters from 3-12: \")\n",
        "print(String1[3:12])\n",
        "\n",
        "# Printing characters between\n",
        "# 3rd and 2nd last character\n",
        "print(\"\\nSlicing characters between \" +\n",
        "\t\"3rd and 2nd last character: \")\n",
        "print(String1[3:-2])\n"
      ],
      "metadata": {
        "colab": {
          "base_uri": "https://localhost:8080/"
        },
        "id": "VcRbmb58vCKm",
        "outputId": "1e99851d-66b6-4d97-b313-6abbd97781ed"
      },
      "execution_count": null,
      "outputs": [
        {
          "output_type": "stream",
          "name": "stdout",
          "text": [
            "Initial String: \n",
            "GeeksForGeeks\n",
            "\n",
            "Slicing characters from 3-12: \n",
            "ksForGeek\n",
            "\n",
            "Slicing characters between 3rd and 2nd last character: \n",
            "ksForGee\n"
          ]
        }
      ]
    },
    {
      "cell_type": "code",
      "source": [
        "#Program to reverse a string\n",
        "gfg = \"geeksforgeeks\"\n",
        "print(gfg[::-1])\n",
        "print(gfg[::-2])\n",
        "\n",
        "print(gfg[-2:-6:2])\n",
        "print(gfg[-2:-6:-2])"
      ],
      "metadata": {
        "colab": {
          "base_uri": "https://localhost:8080/"
        },
        "id": "OwylJRnGwny2",
        "outputId": "5c4fd36d-32c3-4be2-de38-9159a9fd5c56"
      },
      "execution_count": null,
      "outputs": [
        {
          "output_type": "stream",
          "name": "stdout",
          "text": [
            "skeegrofskeeg\n",
            "segoseg\n",
            "\n",
            "ke\n"
          ]
        }
      ]
    },
    {
      "cell_type": "code",
      "source": [
        "# Python Program for\n",
        "# Escape Sequencing\n",
        "# of String\n",
        "\n",
        "# Initial String\n",
        "String1 = '''I'm a \"Geek\"'''\n",
        "print(\"Initial String with use of Triple Quotes: \")\n",
        "print(String1)\n",
        "\n",
        "# Escaping Single Quote\n",
        "String1 = 'I\\'m a \"Geek\"'\n",
        "print(\"\\nEscaping Single Quote: \")\n",
        "print(String1)\n",
        "\n",
        "# Escaping Double Quotes\n",
        "String1 = \"I'm a \\\"Geek\\\"\"\n",
        "print(\"\\nEscaping Double Quotes: \")\n",
        "print(String1)\n",
        "\n",
        "# Printing Paths with the\n",
        "# use of Escape Sequences\n",
        "String1 = \"C:\\\\Python\\\\Geeks\\\\\"\n",
        "print(\"\\nEscaping Backslashes: \")\n",
        "print(String1)\n",
        "\n",
        "# Printing Paths with the\n",
        "# use of Tab\n",
        "String1 = \"Hi\\tGeeks\"\n",
        "print(\"\\nTab: \")\n",
        "print(String1)\n",
        "\n",
        "# Printing Paths with the\n",
        "# use of New Line\n",
        "String1 = \"Python\\nGeeks\"\n",
        "print(\"\\nNew Line: \")\n",
        "print(String1)\n"
      ],
      "metadata": {
        "colab": {
          "base_uri": "https://localhost:8080/"
        },
        "id": "i03xjfHeyiLz",
        "outputId": "94d069b5-597c-4dde-849e-7ce139b149ce"
      },
      "execution_count": null,
      "outputs": [
        {
          "output_type": "stream",
          "name": "stdout",
          "text": [
            "Initial String with use of Triple Quotes: \n",
            "I'm a \"Geek\"\n",
            "\n",
            "Escaping Single Quote: \n",
            "I'm a \"Geek\"\n",
            "\n",
            "Escaping Double Quotes: \n",
            "I'm a \"Geek\"\n",
            "\n",
            "Escaping Backslashes: \n",
            "C:\\Python\\Geeks\\\n",
            "\n",
            "Tab: \n",
            "Hi\tGeeks\n",
            "\n",
            "New Line: \n",
            "Python\n",
            "Geeks\n"
          ]
        }
      ]
    },
    {
      "cell_type": "code",
      "source": [
        "# Python Program to Delete\n",
        "# entire String\n",
        "\n",
        "String1 = \"Hello, I'm a Geek\"\n",
        "print(\"Initial String: \")\n",
        "print(String1)\n",
        "\n",
        "# Deleting a String\n",
        "# with the use of del\n",
        "del String1\n",
        "print(\"\\nDeleting entire String: \")\n",
        "print(String1)\n"
      ],
      "metadata": {
        "colab": {
          "base_uri": "https://localhost:8080/",
          "height": 269
        },
        "id": "fDR7r3HSyrCo",
        "outputId": "13ea5417-4f27-45ab-f74e-1992d6cf6161"
      },
      "execution_count": null,
      "outputs": [
        {
          "output_type": "stream",
          "name": "stdout",
          "text": [
            "Initial String: \n",
            "Hello, I'm a Geek\n",
            "\n",
            "Deleting entire String: \n"
          ]
        },
        {
          "output_type": "error",
          "ename": "NameError",
          "evalue": "ignored",
          "traceback": [
            "\u001b[0;31m---------------------------------------------------------------------------\u001b[0m",
            "\u001b[0;31mNameError\u001b[0m                                 Traceback (most recent call last)",
            "\u001b[0;32m<ipython-input-9-f8896648ae41>\u001b[0m in \u001b[0;36m<cell line: 12>\u001b[0;34m()\u001b[0m\n\u001b[1;32m     10\u001b[0m \u001b[0;32mdel\u001b[0m \u001b[0mString1\u001b[0m\u001b[0;34m\u001b[0m\u001b[0;34m\u001b[0m\u001b[0m\n\u001b[1;32m     11\u001b[0m \u001b[0mprint\u001b[0m\u001b[0;34m(\u001b[0m\u001b[0;34m\"\\nDeleting entire String: \"\u001b[0m\u001b[0;34m)\u001b[0m\u001b[0;34m\u001b[0m\u001b[0;34m\u001b[0m\u001b[0m\n\u001b[0;32m---> 12\u001b[0;31m \u001b[0mprint\u001b[0m\u001b[0;34m(\u001b[0m\u001b[0mString1\u001b[0m\u001b[0;34m)\u001b[0m\u001b[0;34m\u001b[0m\u001b[0;34m\u001b[0m\u001b[0m\n\u001b[0m",
            "\u001b[0;31mNameError\u001b[0m: name 'String1' is not defined"
          ]
        }
      ]
    },
    {
      "cell_type": "code",
      "source": [
        "# Python Program for\n",
        "# Formatting of Strings\n",
        " \n",
        "# Default order\n",
        "String1 = \"{} {} {}\".format('Geeks', 'For', 'Life')\n",
        "print(\"Print String in default order: \")\n",
        "print(String1)\n",
        " \n",
        "# Positional Formatting\n",
        "String1 = \"{1} {0} {2}\".format('Geeks', 'For', 'Life')\n",
        "print(\"\\nPrint String in Positional order: \")\n",
        "print(String1)\n",
        " \n",
        "# Keyword Formatting\n",
        "String1 = \"{l} {f} {g}\".format(g='Geeks', f='For', l='Life')\n",
        "print(\"\\nPrint String in order of Keywords: \")\n",
        "print(String1)\n"
      ],
      "metadata": {
        "colab": {
          "base_uri": "https://localhost:8080/"
        },
        "id": "AVrRcF5Wy-wd",
        "outputId": "4769b96e-3eeb-448e-abd5-64f074b81cd2"
      },
      "execution_count": null,
      "outputs": [
        {
          "output_type": "stream",
          "name": "stdout",
          "text": [
            "Print String in default order: \n",
            "Geeks For Life\n",
            "\n",
            "Print String in Positional order: \n",
            "For Geeks Life\n",
            "\n",
            "Print String in order of Keywords: \n",
            "Life For Geeks\n"
          ]
        }
      ]
    },
    {
      "cell_type": "markdown",
      "source": [
        "# LISTS"
      ],
      "metadata": {
        "id": "ilFmwfVj7slc"
      }
    },
    {
      "cell_type": "code",
      "source": [
        "Var = [\"Geeks\", \"for\", \"Geeks\"]\n",
        "print(Var)\n"
      ],
      "metadata": {
        "colab": {
          "base_uri": "https://localhost:8080/"
        },
        "id": "VrlhRGUX8FTn",
        "outputId": "e292d4b7-693f-4ed0-a9ca-796f2113f4db"
      },
      "execution_count": null,
      "outputs": [
        {
          "output_type": "stream",
          "name": "stdout",
          "text": [
            "['Geeks', 'for', 'Geeks']\n"
          ]
        }
      ]
    },
    {
      "cell_type": "code",
      "source": [
        "# Python program to demonstrate\n",
        "# Creation of List\n",
        "\n",
        "# Creating a List\n",
        "List = []\n",
        "print(\"Blank List: \")\n",
        "print(List)\n",
        "\n",
        "# Creating a List of numbers\n",
        "List = [10, 20, 14]\n",
        "print(\"\\nList of numbers: \")\n",
        "print(List)\n",
        "\n",
        "# Creating a List of strings and accessing\n",
        "# using index\n",
        "List = [\"Geeks\", \"For\", \"Geeks\"]\n",
        "print(\"\\nList Items: \")\n",
        "print(List[0])\n",
        "print(List[2])\n"
      ],
      "metadata": {
        "colab": {
          "base_uri": "https://localhost:8080/"
        },
        "id": "ByMVrWJX8Lni",
        "outputId": "60ca9cd3-5a96-48cf-b503-77f4e8136b69"
      },
      "execution_count": null,
      "outputs": [
        {
          "output_type": "stream",
          "name": "stdout",
          "text": [
            "Blank List: \n",
            "[]\n",
            "\n",
            "List of numbers: \n",
            "[10, 20, 14]\n",
            "\n",
            "List Items: \n",
            "Geeks\n",
            "Geeks\n"
          ]
        }
      ]
    },
    {
      "cell_type": "code",
      "source": [
        "# Creating a list with multiple distinct or duplicate elements\n",
        "# Creating a List with\n",
        "# the use of Numbers\n",
        "# (Having duplicate values)\n",
        "List = [1, 2, 4, 4, 3, 3, 3, 6, 5]\n",
        "print(\"\\nList with the use of Numbers: \")\n",
        "print(List)\n",
        "  \n",
        "# Creating a List with\n",
        "# mixed type of values\n",
        "# (Having numbers and strings)\n",
        "List = [1, 2, 'Geeks', 4, 'For', 6, 'Geeks']\n",
        "print(\"\\nList with the use of Mixed Values: \")\n",
        "print(List)"
      ],
      "metadata": {
        "colab": {
          "base_uri": "https://localhost:8080/"
        },
        "id": "ctOpgBKP9gfe",
        "outputId": "eab13f66-88ee-46ec-cf5c-ae216a9e7974"
      },
      "execution_count": null,
      "outputs": [
        {
          "output_type": "stream",
          "name": "stdout",
          "text": [
            "\n",
            "List with the use of Numbers: \n",
            "[1, 2, 4, 4, 3, 3, 3, 6, 5]\n",
            "\n",
            "List with the use of Mixed Values: \n",
            "[1, 2, 'Geeks', 4, 'For', 6, 'Geeks']\n"
          ]
        }
      ]
    },
    {
      "cell_type": "code",
      "source": [
        "# Creating a Multi-Dimensional List\n",
        "# (By Nesting a list inside a List)\n",
        "List = [['Geeks', 'For',[1,2]], ['Geeks']]\n",
        "  \n",
        "# accessing an element from the\n",
        "# Multi-Dimensional List using\n",
        "# index number\n",
        "print(\"Accessing a element from a Multi-Dimensional list\")\n",
        "print(List[0][2][0])\n",
        "print(List[1][0])"
      ],
      "metadata": {
        "colab": {
          "base_uri": "https://localhost:8080/"
        },
        "id": "JTTe93yu9lrk",
        "outputId": "c425b71a-6c19-41fc-c059-28ac6df71a6b"
      },
      "execution_count": null,
      "outputs": [
        {
          "output_type": "stream",
          "name": "stdout",
          "text": [
            "Accessing a element from a Multi-Dimensional list\n",
            "1\n",
            "Geeks\n"
          ]
        }
      ]
    },
    {
      "cell_type": "code",
      "source": [
        "List = [1, 2, 'Geeks', 4, 'For', 6, 'Geeks']\n",
        "\n",
        "# accessing an element using\n",
        "# negative indexing\n",
        "print(\"Accessing element using negative indexing\")\n",
        "\n",
        "# print the last element of list\n",
        "print(List[-1])\n",
        "\n",
        "# print the third last element of list\n",
        "print(List[-3])\n"
      ],
      "metadata": {
        "colab": {
          "base_uri": "https://localhost:8080/"
        },
        "id": "Dx2viEx-9x10",
        "outputId": "f6953895-5fbf-4509-d007-134f3c08bcab"
      },
      "execution_count": null,
      "outputs": [
        {
          "output_type": "stream",
          "name": "stdout",
          "text": [
            "Accessing element using negative indexing\n",
            "Geeks\n",
            "For\n"
          ]
        }
      ]
    },
    {
      "cell_type": "code",
      "source": [
        "# number of elements\n",
        "n = int(input(\"Enter number of elements : \"))\n",
        " \n",
        "# Below line read inputs from user using map() function\n",
        "a = list(map(int,\n",
        "    input(\"\\nEnter the numbers : \").strip().split()))[:n]\n",
        " \n",
        "print(\"\\nList is - \", a)"
      ],
      "metadata": {
        "colab": {
          "base_uri": "https://localhost:8080/"
        },
        "id": "AIIHIeWR-vK-",
        "outputId": "91041fab-2d03-4d2f-aefc-b29e82ef019d"
      },
      "execution_count": null,
      "outputs": [
        {
          "output_type": "stream",
          "name": "stdout",
          "text": [
            "Enter number of elements : 3\n",
            "\n",
            "Enter the numbers : 1 2 3\n",
            "\n",
            "List is -  [1, 2, 3]\n"
          ]
        }
      ]
    },
    {
      "cell_type": "code",
      "source": [
        "lst = []\n",
        "n = int(input(\"Enter number of elements : \"))\n",
        " \n",
        "for i in range(0, n):\n",
        "    ele = [input(), int(input())]\n",
        "    lst.append(ele)\n",
        " \n",
        "print(lst)"
      ],
      "metadata": {
        "colab": {
          "base_uri": "https://localhost:8080/"
        },
        "id": "jMwUzZ6N-2qu",
        "outputId": "1749bef2-6ea8-47b3-a0b6-edbe8d975cc6"
      },
      "execution_count": null,
      "outputs": [
        {
          "output_type": "stream",
          "name": "stdout",
          "text": [
            "Enter number of elements : 3\n",
            "1\n",
            "2\n",
            "3\n",
            "4\n",
            "\n",
            "6\n",
            "[['1', 2], ['3', 4], ['', 6]]\n"
          ]
        }
      ]
    },
    {
      "cell_type": "code",
      "source": [
        "# For list of integers\n",
        "lst1 = []\n",
        "\n",
        "# For list of strings/chars\n",
        "lst2 = []\n",
        "\n",
        "lst1 = [int(item) for item in input(\"Enter \\\n",
        "\t\t\t\tthe list items : \").split()]\n",
        "\n",
        "lst2 = [item for item in input(\"Enter \\\n",
        "\t\t\t\tthe list items : \").split()]\n",
        "\n",
        "print(lst1)\n",
        "print(lst2)\n"
      ],
      "metadata": {
        "colab": {
          "base_uri": "https://localhost:8080/"
        },
        "id": "sunqGWzo_NpJ",
        "outputId": "01a7c861-d903-4c98-e7a8-a5ba6d20e5b2"
      },
      "execution_count": null,
      "outputs": [
        {
          "output_type": "stream",
          "name": "stdout",
          "text": [
            "Enter \t\t\t\tthe list items : 3\n",
            "Enter \t\t\t\tthe list items : 2 3 5 6 \n",
            "[3]\n",
            "['2', '3', '5', '6']\n"
          ]
        }
      ]
    },
    {
      "cell_type": "markdown",
      "source": [
        "# **TUPLES**:"
      ],
      "metadata": {
        "id": "KnsVEpH7AVWZ"
      }
    },
    {
      "cell_type": "code",
      "source": [
        "\n",
        "# Creating an empty Tuple\n",
        "Tuple1 = ()\n",
        "print(\"Initial empty Tuple: \")\n",
        "print(Tuple1)\n",
        " \n",
        "# Creating a Tuple\n",
        "# with the use of string\n",
        "Tuple1 = ('Geeks', 'For')\n",
        "print(\"\\nTuple with the use of String: \")\n",
        "print(Tuple1)\n",
        " \n",
        "# Creating a Tuple with\n",
        "# the use of list\n",
        "list1 = [1, 2, 4, 5, 6]\n",
        "print(\"\\nTuple using List: \")\n",
        "print(tuple(list1))\n",
        "\n",
        "\n",
        " \n",
        "# Creating a Tuple\n",
        "# with the use of built-in function\n",
        "Tuple1 = tuple('Geeks')\n",
        "\n",
        "print(\"\\nTuple with the use of function: \")\n",
        "print(Tuple1)\n",
        "\n"
      ],
      "metadata": {
        "colab": {
          "base_uri": "https://localhost:8080/"
        },
        "id": "PX4_aQF6AoUN",
        "outputId": "c051bac7-f9b3-4df7-8f92-39dc1a6b7652"
      },
      "execution_count": null,
      "outputs": [
        {
          "output_type": "stream",
          "name": "stdout",
          "text": [
            "Initial empty Tuple: \n",
            "()\n",
            "\n",
            "Tuple with the use of String: \n",
            "('Geeks', 'For')\n",
            "\n",
            "Tuple using List: \n",
            "(1, 2, 4, 5, 6)\n",
            "\n",
            "Tuple with the use of function: \n",
            "('G', 'e', 'e', 'k', 's')\n"
          ]
        }
      ]
    },
    {
      "cell_type": "code",
      "source": [
        "# Concatenation of tuples\n",
        "Tuple1 = (0, 1, 2, 3)\n",
        "Tuple2 = ('Geeks', 'For', 'Geeks')\n",
        " \n",
        "Tuple3 = Tuple1 + Tuple2\n",
        " \n",
        "# Printing first Tuple\n",
        "print(\"Tuple 1: \")\n",
        "print(Tuple1)\n",
        " \n",
        "# Printing Second Tuple\n",
        "print(\"\\nTuple2: \")\n",
        "print(Tuple2)\n",
        " \n",
        "# Printing Final Tuple\n",
        "print(\"\\nTuples after Concatenation: \")\n",
        "print(Tuple3)"
      ],
      "metadata": {
        "colab": {
          "base_uri": "https://localhost:8080/"
        },
        "id": "XIlv2bY4BXsj",
        "outputId": "83163802-fe9f-4fb7-fe57-501443dd2b6f"
      },
      "execution_count": null,
      "outputs": [
        {
          "output_type": "stream",
          "name": "stdout",
          "text": [
            "Tuple 1: \n",
            "(0, 1, 2, 3)\n",
            "\n",
            "Tuple2: \n",
            "('Geeks', 'For', 'Geeks')\n",
            "\n",
            "Tuples after Concatenation: \n",
            "(0, 1, 2, 3, 'Geeks', 'For', 'Geeks')\n"
          ]
        }
      ]
    },
    {
      "cell_type": "code",
      "source": [
        "Tuple2 = ('Geeks', 'For', 'Geeks','Geeks', [1, 2, 4, 5, 6])\n",
        "print(Tuple2[4])\n",
        "print(Tuple2)"
      ],
      "metadata": {
        "colab": {
          "base_uri": "https://localhost:8080/"
        },
        "id": "ZgF18abkB8OA",
        "outputId": "c017aa7a-bead-4bd3-be9b-b1f98dd4985c"
      },
      "execution_count": null,
      "outputs": [
        {
          "output_type": "stream",
          "name": "stdout",
          "text": [
            "[1, 2, 4, 5, 6]\n",
            "('Geeks', 'For', 'Geeks', 'Geeks', [1, 2, 4, 5, 6])\n"
          ]
        }
      ]
    },
    {
      "cell_type": "markdown",
      "source": [
        "# **Sets**"
      ],
      "metadata": {
        "id": "hcelvCj3C1ZB"
      }
    },
    {
      "cell_type": "code",
      "source": [
        "#In Python, a Set is an unordered collection of data types that is iterable, mutable and has no duplicate elements\n",
        "#The major advantage of using a set, as opposed to a list, is that it has a highly optimized method for checking whether a specific element is contained in the set.\n",
        "# Python program to demonstrate\n",
        "# Creation of Set in Python\n",
        "\n",
        "# Creating a Set\n",
        "set1 = set()\n",
        "print(\"Initial blank Set: \")\n",
        "print(set1)\n",
        "\n",
        "# Creating a Set with\n",
        "# the use of a String\n",
        "set1 = set(\"GeeksForGeeks\")\n",
        "print(\"\\nSet with the use of String: \")\n",
        "print(set1)\n",
        "\n",
        "# Creating a Set with\n",
        "# the use of Constructor\n",
        "# (Using object to Store String)\n",
        "String = 'GeeksForGeeks'\n",
        "set1 = set(String)\n",
        "print(\"\\nSet with the use of an Object: \" )\n",
        "print(set1)\n",
        "\n",
        "# Creating a Set with\n",
        "# the use of a List\n",
        "set1 = set([\"Geeks\", \"For\", \"Geeks\"])\n",
        "print(\"\\nSet with the use of List: \")\n",
        "print(set1)\n"
      ],
      "metadata": {
        "colab": {
          "base_uri": "https://localhost:8080/"
        },
        "id": "XL1nMrUaC9iA",
        "outputId": "d03a2060-748d-4115-9f9b-807aa0a5662e"
      },
      "execution_count": null,
      "outputs": [
        {
          "output_type": "stream",
          "name": "stdout",
          "text": [
            "Initial blank Set: \n",
            "set()\n",
            "\n",
            "Set with the use of String: \n",
            "{'r', 'k', 'e', 'o', 's', 'F', 'G'}\n",
            "\n",
            "Set with the use of an Object: \n",
            "{'r', 'k', 'e', 'o', 's', 'F', 'G'}\n",
            "\n",
            "Set with the use of List: \n",
            "{'For', 'Geeks'}\n"
          ]
        }
      ]
    },
    {
      "cell_type": "code",
      "source": [
        "def create_set():\n",
        "\tmy_set = {1, 2, 3, 4, 5}\n",
        "\tprint(my_set)\n",
        "\n",
        "def add_element():\n",
        "\tmy_set = {1, 2, 3, 4, 5}\n",
        "\tmy_set.add(6)\n",
        "\tprint(my_set)\n",
        "\n",
        "def remove_element():\n",
        "\tmy_set = {1, 2, 3, 4, 5}\n",
        "\tmy_set.remove(3)\n",
        "\tprint(my_set)\n",
        "\n",
        "def clear_set():\n",
        "\tmy_set = {1, 2, 3, 4, 5}\n",
        "\tmy_set.clear()\n",
        "\tprint(my_set)\n",
        "\n",
        "def set_union():\n",
        "\tset1 = {1, 2, 3}\n",
        "\tset2 = {4, 5, 6}\n",
        "\tmy_set = set1.union(set2)\n",
        "\tprint(my_set)\n",
        "\n",
        "def set_intersection():\n",
        "\tset1 = {1, 2, 3, 4, 5}\n",
        "\tset2 = {4, 5, 6, 7, 8}\n",
        "\tmy_set = set1.intersection(set2)\n",
        "\tprint(my_set)\n",
        "\n",
        "def set_difference():\n",
        "\tset1 = {1, 2, 3, 4, 5}\n",
        "\tset2 = {4, 5, 6, 7, 8}\n",
        "\tmy_set = set1.difference(set2)\n",
        "\tprint(my_set)\n",
        "\n",
        "def set_symmetric_difference():\n",
        "\tset1 = {1, 2, 3, 4, 5}\n",
        "\tset2 = {4, 5, 6, 7, 8}\n",
        "\tmy_set = set1.symmetric_difference(set2)\n",
        "\tprint(my_set)\n",
        "\n",
        "def set_subset():\n",
        "\tset1 = {1, 2, 3, 4, 5}\n",
        "\tset2 = {2, 3, 4}\n",
        "\tsubset = set2.issubset(set1)\n",
        "\tprint(subset)\n",
        "\n",
        "def set_superset():\n",
        "\tset1 = {1, 2, 3, 4, 5}\n",
        "\tset2 = {2, 3, 4}\n",
        "\tsuperset = set1.issuperset(set2)\n",
        "\tprint(superset)\n",
        "\n",
        "if __name__ == '__main__':\n",
        "\tcreate_set()\n",
        "\tadd_element()\n",
        "\tremove_element()\n",
        "\tclear_set()\n",
        "\tset_union()\n",
        "\tset_intersection()\n",
        "\tset_difference()\n",
        "\tset_symmetric_difference()\n",
        "\tset_subset()\n",
        "\tset_superset()\n"
      ],
      "metadata": {
        "colab": {
          "base_uri": "https://localhost:8080/"
        },
        "id": "JEo-FsH8WEfK",
        "outputId": "311a0c97-5b5c-4173-9e69-dcb333a519fe"
      },
      "execution_count": null,
      "outputs": [
        {
          "output_type": "stream",
          "name": "stdout",
          "text": [
            "{1, 2, 3, 4, 5}\n",
            "{1, 2, 3, 4, 5, 6}\n",
            "{1, 2, 4, 5}\n",
            "set()\n",
            "{1, 2, 3, 4, 5, 6}\n",
            "{4, 5}\n",
            "{1, 2, 3}\n",
            "{1, 2, 3, 6, 7, 8}\n",
            "True\n",
            "True\n"
          ]
        }
      ]
    },
    {
      "cell_type": "markdown",
      "source": [
        "# **DICTIONARY**"
      ],
      "metadata": {
        "id": "8zMBgwRpXeuY"
      }
    },
    {
      "cell_type": "code",
      "source": [
        "# Creating an empty Dictionary\n",
        "Dict = {}\n",
        "print(\"Empty Dictionary: \")\n",
        "print(Dict)\n",
        "\n",
        "# Creating a Dictionary\n",
        "# with dict() method\n",
        "Dict = dict({1: 'Geeks', 2: 'For', 3: 'Geeks'})\n",
        "print(\"\\nDictionary with the use of dict(): \")\n",
        "print(Dict)\n",
        "\n",
        "# Creating a Dictionary\n",
        "# with each item as a Pair\n",
        "Dict = dict([(1, 'Geeks'), (2, 'For')])\n",
        "print(\"\\nDictionary with each item as a pair: \")\n",
        "print(Dict)\n"
      ],
      "metadata": {
        "colab": {
          "base_uri": "https://localhost:8080/"
        },
        "id": "J-FVaw5FXl8E",
        "outputId": "f1c1ad97-9903-410c-b569-431de1e23454"
      },
      "execution_count": null,
      "outputs": [
        {
          "output_type": "stream",
          "name": "stdout",
          "text": [
            "Empty Dictionary: \n",
            "{}\n",
            "\n",
            "Dictionary with the use of dict(): \n",
            "{1: 'Geeks', 2: 'For', 3: 'Geeks'}\n",
            "\n",
            "Dictionary with each item as a pair: \n",
            "{1: 'Geeks', 2: 'For'}\n"
          ]
        }
      ]
    },
    {
      "cell_type": "code",
      "source": [
        "# Creating a Nested Dictionary\n",
        "# as shown in the below image\n",
        "Dict = {1: 'Geeks', 2: 'For',\n",
        "\t\t3: {'A': 'Welcome', 'B': 'To', 'C': 'Geeks'}}\n",
        "\n",
        "print(Dict)\n"
      ],
      "metadata": {
        "colab": {
          "base_uri": "https://localhost:8080/"
        },
        "id": "I1H7xT6zYCgX",
        "outputId": "5eb33dc9-197b-4de5-b9b6-5c1295ee58dc"
      },
      "execution_count": null,
      "outputs": [
        {
          "output_type": "stream",
          "name": "stdout",
          "text": [
            "{1: 'Geeks', 2: 'For', 3: {'A': 'Welcome', 'B': 'To', 'C': 'Geeks'}}\n"
          ]
        }
      ]
    },
    {
      "cell_type": "code",
      "source": [
        "# Creating an empty Dictionary\n",
        "Dict = {}\n",
        "print(\"Empty Dictionary: \")\n",
        "print(Dict)\n",
        "\n",
        "# Adding elements one at a time\n",
        "Dict[0] = 'Geeks'\n",
        "Dict[2] = 'For'\n",
        "Dict[3] = 1\n",
        "print(\"\\nDictionary after adding 3 elements: \")\n",
        "print(Dict)\n",
        "\n",
        "# Adding set of values\n",
        "# to a single Key\n",
        "Dict['Value_set'] = 2, 3, 4\n",
        "print(\"\\nDictionary after adding 3 elements: \")\n",
        "print(Dict)\n",
        "\n",
        "# Updating existing Key's Value\n",
        "Dict[2] = 'Welcome'\n",
        "print(\"\\nUpdated key value: \")\n",
        "print(Dict)\n",
        "\n",
        "# Adding Nested Key value to Dictionary\n",
        "Dict[5] = {'Nested': {'1': 'Life', '2': 'Geeks'}}\n",
        "print(\"\\nAdding a Nested Key: \")\n",
        "print(Dict)\n"
      ],
      "metadata": {
        "colab": {
          "base_uri": "https://localhost:8080/"
        },
        "id": "HYQfilbFYfHp",
        "outputId": "3d939258-20ce-4923-e9a7-fa83d9ba0181"
      },
      "execution_count": null,
      "outputs": [
        {
          "output_type": "stream",
          "name": "stdout",
          "text": [
            "Empty Dictionary: \n",
            "{}\n",
            "\n",
            "Dictionary after adding 3 elements: \n",
            "{0: 'Geeks', 2: 'For', 3: 1}\n",
            "\n",
            "Dictionary after adding 3 elements: \n",
            "{0: 'Geeks', 2: 'For', 3: 1, 'Value_set': (2, 3, 4)}\n",
            "\n",
            "Updated key value: \n",
            "{0: 'Geeks', 2: 'Welcome', 3: 1, 'Value_set': (2, 3, 4)}\n",
            "\n",
            "Adding a Nested Key: \n",
            "{0: 'Geeks', 2: 'Welcome', 3: 1, 'Value_set': (2, 3, 4), 5: {'Nested': {'1': 'Life', '2': 'Geeks'}}}\n"
          ]
        }
      ]
    },
    {
      "cell_type": "code",
      "source": [
        "# Python program to demonstrate\n",
        "# accessing a element from a Dictionary\n",
        "\n",
        "# Creating a Dictionary\n",
        "Dict = {1: 'Geeks', 'name': 'For', 3: 'Geeks'}\n",
        "\n",
        "# accessing a element using key\n",
        "print(\"Accessing a element using key:\")\n",
        "print(Dict['name'])\n",
        "\n",
        "# accessing a element using key\n",
        "print(\"Accessing a element using key:\")\n",
        "print(Dict[1])\n"
      ],
      "metadata": {
        "colab": {
          "base_uri": "https://localhost:8080/"
        },
        "id": "rYcMjtONYiqi",
        "outputId": "93f6f131-0197-4d1f-92d2-12715d64db13"
      },
      "execution_count": null,
      "outputs": [
        {
          "output_type": "stream",
          "name": "stdout",
          "text": [
            "Accessing a element using key:\n",
            "For\n",
            "Accessing a element using key:\n",
            "Geeks\n"
          ]
        }
      ]
    },
    {
      "cell_type": "code",
      "source": [
        "# Creating a Dictionary\n",
        "Dict = {'Dict1': {1: 'Geeks'},\n",
        "\t\t'Dict2': {'Name': 'For'}}\n",
        "\n",
        "# Accessing element using key\n",
        "print(Dict['Dict1'])\n",
        "print(Dict['Dict1'][1])\n",
        "print(Dict['Dict2']['Name'])\n"
      ],
      "metadata": {
        "colab": {
          "base_uri": "https://localhost:8080/"
        },
        "id": "u1IBE-XKYuK3",
        "outputId": "b2a911a8-7f79-4ea0-8f87-2e8e9ed7ef2e"
      },
      "execution_count": null,
      "outputs": [
        {
          "output_type": "stream",
          "name": "stdout",
          "text": [
            "{1: 'Geeks'}\n",
            "Geeks\n",
            "For\n"
          ]
        }
      ]
    },
    {
      "cell_type": "code",
      "source": [
        "# demo for all dictionary methods\n",
        "dict1 = {1: \"Python\", 2: \"Java\", 3: \"Ruby\", 4: \"Scala\"}\n",
        "\n",
        "# copy() method\n",
        "dict2 = dict1.copy()\n",
        "print(dict2)\n",
        "\n",
        "# clear() method\n",
        "dict1.clear()\n",
        "print(dict1)\n",
        "\n",
        "# get() method\n",
        "print(dict2.get(1))\n",
        "\n",
        "# items() method\n",
        "print(dict2.items())\n",
        "\n",
        "# keys() method\n",
        "print(dict2.keys())\n",
        "\n",
        "# pop() method\n",
        "dict2.pop(4)\n",
        "print(dict2)\n",
        "\n",
        "# popitem() method\n",
        "dict2.popitem()\n",
        "print(dict2)\n",
        "\n",
        "# update() method\n",
        "dict2.update({3: \"Scala\"})\n",
        "print(dict2)\n",
        "\n",
        "# values() method\n",
        "print(dict2.values())\n"
      ],
      "metadata": {
        "colab": {
          "base_uri": "https://localhost:8080/"
        },
        "id": "byOvqF7nY0b1",
        "outputId": "75adb499-3a5c-4499-8f55-f2a74876a70e"
      },
      "execution_count": null,
      "outputs": [
        {
          "output_type": "stream",
          "name": "stdout",
          "text": [
            "{1: 'Python', 2: 'Java', 3: 'Ruby', 4: 'Scala'}\n",
            "{}\n",
            "Python\n",
            "dict_items([(1, 'Python'), (2, 'Java'), (3, 'Ruby'), (4, 'Scala')])\n",
            "dict_keys([1, 2, 3, 4])\n",
            "{1: 'Python', 2: 'Java', 3: 'Ruby'}\n",
            "{1: 'Python', 2: 'Java'}\n",
            "{1: 'Python', 2: 'Java', 3: 'Scala'}\n",
            "dict_values(['Python', 'Java', 'Scala'])\n"
          ]
        }
      ]
    },
    {
      "cell_type": "markdown",
      "source": [
        "# **ARRAYS**"
      ],
      "metadata": {
        "id": "Mc2tXyaEZllH"
      }
    },
    {
      "cell_type": "code",
      "source": [
        "import array\n",
        "\n",
        "# Create an array of integers\n",
        "my_array = array.array('i', [1, 2, 3, 4, 2, 5, 2])\n",
        "\n",
        "# Count the number of occurrences of the element 2 in the array\n",
        "count = my_array.count(2)\n",
        "\n",
        "# Print the result\n",
        "print(\"Number of occurrences of 2:\", count)\n"
      ],
      "metadata": {
        "colab": {
          "base_uri": "https://localhost:8080/"
        },
        "id": "HHoPVA3lF35b",
        "outputId": "c2ea71d6-6edc-4077-d233-0376846f30a2"
      },
      "execution_count": null,
      "outputs": [
        {
          "output_type": "stream",
          "name": "stdout",
          "text": [
            "Number of occurrences of 2: 3\n"
          ]
        }
      ]
    },
    {
      "cell_type": "markdown",
      "source": [
        "# **OOPS**"
      ],
      "metadata": {
        "id": "_6U_BORwHME7"
      }
    },
    {
      "cell_type": "code",
      "source": [
        "class Person:\n",
        "  def __init__(self, name, age):\n",
        "    self.name = name\n",
        "    self.age = age\n",
        "\n",
        "  def __str__(self):\n",
        "    return f\"{self.name}({self.age})\"\n",
        "\n",
        "p1 = Person(\"John\", 36)\n",
        "\n",
        "print(p1)"
      ],
      "metadata": {
        "colab": {
          "base_uri": "https://localhost:8080/"
        },
        "id": "0Ot8h-UEH8EC",
        "outputId": "66a3f663-440a-425a-b84d-d06ff4789a1c"
      },
      "execution_count": null,
      "outputs": [
        {
          "output_type": "stream",
          "name": "stdout",
          "text": [
            "John(36)\n"
          ]
        }
      ]
    },
    {
      "cell_type": "code",
      "source": [
        "class Person:\n",
        "  def __init__(self, fname, lname):\n",
        "    self.firstname = fname\n",
        "    self.lastname = lname\n",
        "\n",
        "  def printname(self):\n",
        "    print(self.firstname, self.lastname)\n",
        "\n",
        "class Student(Person):\n",
        "  def __init__(self, fname, lname, year):\n",
        "    super().__init__(fname, lname)\n",
        "    self.graduationyear = year\n",
        "\n",
        "x = Student(\"Mike\", \"Olsen\", 2019)\n",
        "print(x.printname())\n"
      ],
      "metadata": {
        "colab": {
          "base_uri": "https://localhost:8080/"
        },
        "id": "qc7xsXL4HTMT",
        "outputId": "d2948422-227a-4c01-ecd4-293615ee06da"
      },
      "execution_count": null,
      "outputs": [
        {
          "output_type": "stream",
          "name": "stdout",
          "text": [
            "Mike Olsen\n",
            "None\n"
          ]
        }
      ]
    },
    {
      "cell_type": "code",
      "source": [
        "#If you need to create a global variable, but are stuck in the local scope, you can use the global keyword.\n",
        "\n",
        "#The global keyword makes the variable global.\n",
        "\n",
        "def myfunc():\n",
        "  global x\n",
        "  x = 300\n",
        "\n",
        "myfunc()\n",
        "\n",
        "print(x)\n"
      ],
      "metadata": {
        "colab": {
          "base_uri": "https://localhost:8080/"
        },
        "id": "_CEo6OMQXOd0",
        "outputId": "e4eef636-35e7-43ac-d7f2-d3bec567584d"
      },
      "execution_count": null,
      "outputs": [
        {
          "output_type": "stream",
          "name": "stdout",
          "text": [
            "300\n"
          ]
        }
      ]
    },
    {
      "cell_type": "code",
      "source": [
        "#If you operate with the same variable name inside and outside of a function, Python will treat them as two separate variables, \n",
        "#one available in the global scope (outside the function) and one available in the local scope (inside the function):\n",
        "\n",
        "x = 300\n",
        "\n",
        "def myfunc():\n",
        "  x = 200\n",
        "  print(x)\n",
        "\n",
        "myfunc()\n",
        "\n",
        "print(x)"
      ],
      "metadata": {
        "colab": {
          "base_uri": "https://localhost:8080/"
        },
        "id": "8rqGNRZ4Xnxz",
        "outputId": "3deb5909-e5d7-4f72-a2c9-8d77800bfc68"
      },
      "execution_count": null,
      "outputs": [
        {
          "output_type": "stream",
          "name": "stdout",
          "text": [
            "200\n",
            "300\n"
          ]
        }
      ]
    },
    {
      "cell_type": "code",
      "source": [
        "# A Simple Python program to demonstrate working\n",
        "# of yield\n",
        "\n",
        "# A generator function that yields 1 for the first time,\n",
        "# 2 second time and 3 third time\n",
        "\n",
        "\n",
        "def simpleGeneratorFun():\n",
        "\tyield 1\n",
        "\tyield 2\n",
        "\tyield 3\n",
        "\n",
        "\n",
        "# Driver code to check above generator function\n",
        "for value in simpleGeneratorFun():\n",
        "\tprint(value)\n"
      ],
      "metadata": {
        "colab": {
          "base_uri": "https://localhost:8080/"
        },
        "id": "CYo_1bd_X6WA",
        "outputId": "fbdf1417-27dd-494f-cf29-c3d250d34fab"
      },
      "execution_count": null,
      "outputs": [
        {
          "output_type": "stream",
          "name": "stdout",
          "text": [
            "1\n",
            "2\n",
            "3\n"
          ]
        }
      ]
    },
    {
      "cell_type": "code",
      "source": [
        "filter_nums = lambda s: ''.join([ch for ch in s if not ch.isdigit()])\n",
        "print(\"filter_nums():\", filter_nums(\"Geeks101\"))\n",
        "\n",
        "do_exclaim = lambda s: s + '!'\n",
        "print(\"do_exclaim():\", do_exclaim(\"I am tired\"))\n",
        "\n",
        "find_sum = lambda n: sum([int(x) for x in str(n)])\n",
        "print(\"find_sum():\", find_sum(101))\n"
      ],
      "metadata": {
        "colab": {
          "base_uri": "https://localhost:8080/"
        },
        "id": "xdvrLHENbxPI",
        "outputId": "c1b65cc7-1951-4bdd-918a-3a972cbd946a"
      },
      "execution_count": null,
      "outputs": [
        {
          "output_type": "stream",
          "name": "stdout",
          "text": [
            "filter_nums(): Geeks\n",
            "do_exclaim(): I am tired!\n",
            "find_sum(): 2\n"
          ]
        }
      ]
    },
    {
      "cell_type": "code",
      "source": [
        "#destructors\n",
        "# Python program to illustrate destructor\n",
        "class Employee:\n",
        "\n",
        "\t# Initializing\n",
        "\tdef __init__(self):\n",
        "\t\tprint('Employee created.')\n",
        "\n",
        "\t# Deleting (Calling destructor)\n",
        "\tdef __del__(self):\n",
        "\t\tprint('Destructor called, Employee deleted.')\n",
        "\n",
        "obj = Employee()\n",
        "del obj\n"
      ],
      "metadata": {
        "colab": {
          "base_uri": "https://localhost:8080/"
        },
        "id": "QDomKldykGXJ",
        "outputId": "89f2ecbc-2e45-45b9-f072-32ed2dffe781"
      },
      "execution_count": null,
      "outputs": [
        {
          "output_type": "stream",
          "name": "stdout",
          "text": [
            "Employee created.\n",
            "Destructor called, Employee deleted.\n"
          ]
        }
      ]
    },
    {
      "cell_type": "code",
      "source": [
        "# parent class\n",
        "class Person():\n",
        "  def __init__(self, name, age):\n",
        "    self.name = name\n",
        "    self.age = age\n",
        " \n",
        "  def display(self):\n",
        "    print(self.name, self.age)\n",
        " \n",
        "# child class\n",
        "class Student(Person):\n",
        "  def __init__(self, name, age, dob):\n",
        "    self.sName = name\n",
        "    self.sAge = age\n",
        "    self.dob = dob\n",
        "    # inheriting the properties of parent class\n",
        "    super().__init__(\"Rahul\", age)\n",
        " \n",
        "  def displayInfo(self):\n",
        "    print(self.sName, self.sAge, self.dob)\n",
        " \n",
        "obj = Student(\"Mayank\", 23, \"16-03-2000\")\n",
        "obj.display()\n",
        "obj.displayInfo()"
      ],
      "metadata": {
        "colab": {
          "base_uri": "https://localhost:8080/"
        },
        "id": "x8opGl0plmgh",
        "outputId": "da4455fa-f520-4528-a1c2-988249e01257"
      },
      "execution_count": null,
      "outputs": [
        {
          "output_type": "stream",
          "name": "stdout",
          "text": [
            "Rahul 23\n",
            "Mayank 23 16-03-2000\n"
          ]
        }
      ]
    },
    {
      "cell_type": "code",
      "source": [
        "# Python example to show the working of multiple\n",
        "# inheritance\n",
        " \n",
        "class Base1(object):\n",
        "    def __init__(self):\n",
        "        self.str1 = \"Geek1\"\n",
        "        print(\"Base1\")\n",
        " \n",
        " \n",
        "class Base2(object):\n",
        "    def __init__(self):\n",
        "        self.str2 = \"Geek2\"\n",
        "        print(\"Base2\")\n",
        " \n",
        " \n",
        "class Derived(Base1, Base2):\n",
        "    def __init__(self):\n",
        " \n",
        "        # Calling constructors of Base1\n",
        "        # and Base2 classes\n",
        "        Base1.__init__(self)\n",
        "        Base2.__init__(self)\n",
        "        print(\"Derived\")\n",
        " \n",
        "    def printStrs(self):\n",
        "        print(self.str1, self.str2)\n",
        " \n",
        " \n",
        "ob = Derived()\n",
        "ob.printStrs()"
      ],
      "metadata": {
        "colab": {
          "base_uri": "https://localhost:8080/"
        },
        "id": "22eyBGKgl9Wj",
        "outputId": "3319c806-d22a-40ab-c7b9-4239e1dfd1a1"
      },
      "execution_count": null,
      "outputs": [
        {
          "output_type": "stream",
          "name": "stdout",
          "text": [
            "Base1\n",
            "Base2\n",
            "Derived\n",
            "Geek1 Geek2\n"
          ]
        }
      ]
    },
    {
      "cell_type": "code",
      "source": [
        "# A Python program to demonstrate inheritance\n",
        " \n",
        "# Base or Super class. Note object in bracket.\n",
        "# (Generally, object is made ancestor of all classes)\n",
        "# In Python 3.x \"class Person\" is\n",
        "# equivalent to \"class Person(object)\"\n",
        " \n",
        "class Base(object):\n",
        " \n",
        "    # Constructor\n",
        "    def __init__(self, name):\n",
        "        self.name = name\n",
        " \n",
        "    # To get name\n",
        "    def getName(self):\n",
        "        return self.name\n",
        " \n",
        " \n",
        "# Inherited or Sub class (Note Person in bracket)\n",
        "class Child(Base):\n",
        " \n",
        "    # Constructor\n",
        "    def __init__(self, name, age):\n",
        "        Base.__init__(self, name)\n",
        "        self.age = age\n",
        " \n",
        "    # To get name\n",
        "    def getAge(self):\n",
        "        return self.age\n",
        " \n",
        "# Inherited or Sub class (Note Person in bracket)\n",
        " \n",
        " \n",
        "class GrandChild(Child):\n",
        " \n",
        "    # Constructor\n",
        "    def __init__(self, name, age, address):\n",
        "        Child.__init__(self, name, age)\n",
        "        self.address = address\n",
        " \n",
        "    # To get address\n",
        "    def getAddress(self):\n",
        "        return self.address\n",
        " \n",
        " \n",
        "# Driver code\n",
        "g = GrandChild(\"Geek1\", 23, \"Noida\")\n",
        "print(g.getName(), g.getAge(), g.getAddress())"
      ],
      "metadata": {
        "colab": {
          "base_uri": "https://localhost:8080/"
        },
        "id": "AvZHevyfmKe-",
        "outputId": "d0755fab-f249-4190-b9fe-29130d8b44a4"
      },
      "execution_count": null,
      "outputs": [
        {
          "output_type": "stream",
          "name": "stdout",
          "text": [
            "Geek1 23 Noida\n"
          ]
        }
      ]
    },
    {
      "cell_type": "code",
      "source": [
        "# Python program to demonstrate private members\n",
        "# of the parent class\n",
        " \n",
        "class C(object):\n",
        "    def __init__(self):\n",
        "        self.c = 21\n",
        " \n",
        "        # d is private instance variable\n",
        "        self.__d = 42\n",
        " \n",
        " \n",
        "class D(C):\n",
        "    def __init__(self):\n",
        "        self.e = 84\n",
        "        C.__init__(self)\n",
        "      \n",
        " \n",
        "object1 = D()\n",
        " \n",
        "# produces an error as d is private instance variable\n",
        "print(object1.c)\n",
        "#print(object.__d)"
      ],
      "metadata": {
        "colab": {
          "base_uri": "https://localhost:8080/",
          "height": 356
        },
        "id": "by2_6SV7mf9B",
        "outputId": "9dcf4ea3-89d3-4594-9a7e-a217920206ee"
      },
      "execution_count": null,
      "outputs": [
        {
          "output_type": "error",
          "ename": "NameError",
          "evalue": "ignored",
          "traceback": [
            "\u001b[0;31m---------------------------------------------------------------------------\u001b[0m",
            "\u001b[0;31mNameError\u001b[0m                                 Traceback (most recent call last)",
            "\u001b[0;32m<ipython-input-20-0f8afae3971a>\u001b[0m in \u001b[0;36m<cell line: 18>\u001b[0;34m()\u001b[0m\n\u001b[1;32m     16\u001b[0m         \u001b[0mprint\u001b[0m\u001b[0;34m(\u001b[0m\u001b[0m__C\u001b[0m\u001b[0;34m.\u001b[0m\u001b[0m__d\u001b[0m\u001b[0;34m)\u001b[0m\u001b[0;34m\u001b[0m\u001b[0;34m\u001b[0m\u001b[0m\n\u001b[1;32m     17\u001b[0m \u001b[0;34m\u001b[0m\u001b[0m\n\u001b[0;32m---> 18\u001b[0;31m \u001b[0mobject1\u001b[0m \u001b[0;34m=\u001b[0m \u001b[0mD\u001b[0m\u001b[0;34m(\u001b[0m\u001b[0;34m)\u001b[0m\u001b[0;34m\u001b[0m\u001b[0;34m\u001b[0m\u001b[0m\n\u001b[0m\u001b[1;32m     19\u001b[0m \u001b[0;34m\u001b[0m\u001b[0m\n\u001b[1;32m     20\u001b[0m \u001b[0;31m# produces an error as d is private instance variable\u001b[0m\u001b[0;34m\u001b[0m\u001b[0;34m\u001b[0m\u001b[0m\n",
            "\u001b[0;32m<ipython-input-20-0f8afae3971a>\u001b[0m in \u001b[0;36m__init__\u001b[0;34m(self)\u001b[0m\n\u001b[1;32m     14\u001b[0m         \u001b[0mself\u001b[0m\u001b[0;34m.\u001b[0m\u001b[0me\u001b[0m \u001b[0;34m=\u001b[0m \u001b[0;36m84\u001b[0m\u001b[0;34m\u001b[0m\u001b[0;34m\u001b[0m\u001b[0m\n\u001b[1;32m     15\u001b[0m         \u001b[0mC\u001b[0m\u001b[0;34m.\u001b[0m\u001b[0m__init__\u001b[0m\u001b[0;34m(\u001b[0m\u001b[0mself\u001b[0m\u001b[0;34m)\u001b[0m\u001b[0;34m\u001b[0m\u001b[0;34m\u001b[0m\u001b[0m\n\u001b[0;32m---> 16\u001b[0;31m         \u001b[0mprint\u001b[0m\u001b[0;34m(\u001b[0m\u001b[0m__C\u001b[0m\u001b[0;34m.\u001b[0m\u001b[0m__d\u001b[0m\u001b[0;34m)\u001b[0m\u001b[0;34m\u001b[0m\u001b[0;34m\u001b[0m\u001b[0m\n\u001b[0m\u001b[1;32m     17\u001b[0m \u001b[0;34m\u001b[0m\u001b[0m\n\u001b[1;32m     18\u001b[0m \u001b[0mobject1\u001b[0m \u001b[0;34m=\u001b[0m \u001b[0mD\u001b[0m\u001b[0;34m(\u001b[0m\u001b[0;34m)\u001b[0m\u001b[0;34m\u001b[0m\u001b[0;34m\u001b[0m\u001b[0m\n",
            "\u001b[0;31mNameError\u001b[0m: name '_D__C' is not defined"
          ]
        }
      ]
    },
    {
      "cell_type": "code",
      "source": [
        "# Python program to\n",
        "# demonstrate protected members\n",
        "\n",
        "# Creating a base class\n",
        "class Base:\n",
        "\tdef __init__(self):\n",
        "\n",
        "\t\t# Protected member\n",
        "\t\tself._a = 2\n",
        "\n",
        "# Creating a derived class\n",
        "class Derived(Base):\n",
        "\tdef __init__(self):\n",
        "\n",
        "\t\t# Calling constructor of\n",
        "\t\t# Base class\n",
        "\t\tBase.__init__(self)\n",
        "\t\tprint(\"Calling protected member of base class: \",\n",
        "\t\t\tself._a)\n",
        "\n",
        "\t\t# Modify the protected variable:\n",
        "\t\tself._a = 3\n",
        "\t\tprint(\"Calling modified protected member outside class: \",\n",
        "\t\t\tself._a)\n",
        "\n",
        "\n",
        "obj1 = Derived()\n",
        "\n",
        "obj2 = Base()\n",
        "\n",
        "# Calling protected member\n",
        "# Can be accessed but should not be done due to convention\n",
        "print(\"Accessing protected member of obj1: \", obj1._a)\n",
        "\n",
        "# Accessing the protected variable outside\n",
        "print(\"Accessing protected member of obj2: \", obj2._a)\n"
      ],
      "metadata": {
        "colab": {
          "base_uri": "https://localhost:8080/"
        },
        "id": "guZoLc9yni_m",
        "outputId": "20aaac70-94b8-4989-c74a-ce5c7a8ae129"
      },
      "execution_count": null,
      "outputs": [
        {
          "output_type": "stream",
          "name": "stdout",
          "text": [
            "Calling protected member of base class:  2\n",
            "Calling modified protected member outside class:  3\n",
            "Accessing protected member of obj1:  3\n",
            "Accessing protected member of obj2:  2\n"
          ]
        }
      ]
    },
    {
      "cell_type": "code",
      "source": [
        "\n",
        "\n",
        "# Python program to show that the variables with a value\n",
        "# assigned in class declaration, are class variables\n",
        "\n",
        "# Class for Computer Science Student\n",
        "class CSStudent:\n",
        "\tstream = 'cse'\t\t\t\t # Class Variable\n",
        "\tdef __init__(self,name,roll):\n",
        "\t\tself.name = name\t\t # Instance Variable\n",
        "\t\tself.roll = roll\t\t # Instance Variable\n",
        "\n",
        "# Objects of CSStudent class\n",
        "a = CSStudent('Geek', 1)\n",
        "b = CSStudent('Nerd', 2)\n",
        "c = CSStudent('sai', 3)\n",
        "\n",
        "\n",
        "print(a.stream) # prints \"cse\"\n",
        "print(b.stream) # prints \"cse\"\n",
        "print(a.name) # prints \"Geek\"\n",
        "print(b.name) # prints \"Nerd\"\n",
        "print(a.roll) # prints \"1\"\n",
        "print(b.roll) # prints \"2\"\n",
        "\n",
        "# Class variables can be accessed using class\n",
        "# name also\n",
        "print(CSStudent.stream) # prints \"cse\"\n",
        "\n",
        "# Now if we change the stream for just a it won't be changed for b\n",
        "a.stream = 'ece'\n",
        "print(a.stream) # prints 'ece'\n",
        "print(b.stream) # prints 'cse'\n",
        "b.stream = 'cse'\n",
        "# To change the stream for all instances of the class we can change it\n",
        "# directly from the class\n",
        "CSStudent.stream = 'mech'\n",
        "\n",
        "print(a.stream) # prints 'ece'\n",
        "print(b.stream) # prints 'mech'\n",
        "print(c.stream) # prints 'mech'\n",
        "\n",
        "print(a.stream)\n",
        "\n",
        "d = CSStudent('jaya', 3)\n",
        "\n",
        "print(d.stream) #prints mech\n",
        "\n"
      ],
      "metadata": {
        "colab": {
          "base_uri": "https://localhost:8080/"
        },
        "id": "yyM3S-3RoUu8",
        "outputId": "2a5b383c-0db7-4272-8927-3d761c2666d1"
      },
      "execution_count": null,
      "outputs": [
        {
          "output_type": "stream",
          "name": "stdout",
          "text": [
            "cse\n",
            "cse\n",
            "Geek\n",
            "Nerd\n",
            "1\n",
            "2\n",
            "cse\n",
            "ece\n",
            "cse\n",
            "ece\n",
            "cse\n",
            "mech\n",
            "ece\n",
            "mech\n"
          ]
        }
      ]
    },
    {
      "cell_type": "code",
      "source": [
        "# static and class method \n",
        "# Python program to demonstrate\n",
        "# use of class method and static method.\n",
        "from datetime import date\n",
        "\n",
        "\n",
        "class Person:\n",
        "\tdef __init__(self, name, age):\n",
        "\t\tself.name = name\n",
        "\t\tself.age = age\n",
        "\n",
        "\t# a class method to create a Person object by birth year.\n",
        "\t@classmethod\n",
        "\tdef fromBirthYear(cls, name, year):\n",
        "\t\treturn cls(name, date.today().year - year)\n",
        "\n",
        "\t# a static method to check if a Person is adult or not.\n",
        "\t@staticmethod\n",
        "\tdef isAdult(age):\n",
        "\t\treturn age > 18\n",
        "\n",
        "\n",
        "person1 = Person('mayank', 21)\n",
        "person2 = Person.fromBirthYear('mayank', 1996)\n",
        "\n",
        "print(person1.age)\n",
        "print(person2.age)\n",
        "\n",
        "# print the result\n",
        "print(Person.isAdult(22))\n"
      ],
      "metadata": {
        "colab": {
          "base_uri": "https://localhost:8080/"
        },
        "id": "ZnJC-y6wPg4Z",
        "outputId": "f6dacc81-5c5c-43ab-e2e1-327d68f4eca6"
      },
      "execution_count": null,
      "outputs": [
        {
          "output_type": "stream",
          "name": "stdout",
          "text": [
            "21\n",
            "27\n",
            "True\n"
          ]
        }
      ]
    }
  ]
}